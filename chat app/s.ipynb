{
 "cells": [
  {
   "cell_type": "code",
   "execution_count": null,
   "id": "451ddd49",
   "metadata": {},
   "outputs": [
    {
     "name": "stdout",
     "output_type": "stream",
     "text": [
      "Running the server on 127.0.0.1 1234\n",
      "Successfully connected to client 127.0.0.1 62649\n",
      "[('d', <socket.socket fd=968, family=AddressFamily.AF_INET, type=SocketKind.SOCK_STREAM, proto=0, laddr=('127.0.0.1', 1234), raddr=('127.0.0.1', 62649)>)]\n",
      "Successfully connected to client 127.0.0.1 62654\n",
      "[('d', <socket.socket fd=968, family=AddressFamily.AF_INET, type=SocketKind.SOCK_STREAM, proto=0, laddr=('127.0.0.1', 1234), raddr=('127.0.0.1', 62649)>), ('s', <socket.socket fd=852, family=AddressFamily.AF_INET, type=SocketKind.SOCK_STREAM, proto=0, laddr=('127.0.0.1', 1234), raddr=('127.0.0.1', 62654)>)]\n"
     ]
    }
   ],
   "source": [
    "# Import required modules\n",
    "import socket\n",
    "import ast\n",
    "import threading\n",
    "\n",
    "BUFFER = 2**20\n",
    "HOST = '127.0.0.1'\n",
    "PORT = 1234 # You can use any port between 0 to 65535\n",
    "LISTENER_LIMIT = 5\n",
    "active_clients = [] # List of all currently connected users\n",
    "users = {}\n",
    "\n",
    "\n",
    "# Function to listen for upcoming messages from a client\n",
    "def listen_for_messages(client, username):\n",
    "\n",
    "    while 1:\n",
    "\n",
    "        message = client.recv(BUFFER).decode('utf-8')\n",
    "        \n",
    "        # default -> Group\n",
    "        # format of rcvd msg { ***PRIVATE***username***data }\n",
    "        # send to one user (PRIVATE)  \n",
    "        if message != '' and \"***PRIVATE***\" in message:\n",
    "            target_client_username  = message.split(\"***PRIVATE***\")[1].split(\"###\")[0]\n",
    "            \n",
    "            if target_client_username in users.keys():\n",
    "                target_client_addr = users.get(target_client_username)\n",
    "                message = message.split(\"***PRIVATE***\")[1].split(\"###\")[1]\n",
    "                final_msg = username + '~' + message\n",
    "                send_message_to_client(target_client_addr, final_msg)\n",
    "                \n",
    "            else:\n",
    "                print(\"Error -> username not in active client list !!!\")\n",
    "            \n",
    "            \n",
    "        # broadcast to group (GROUP)\n",
    "        elif message != '' :\n",
    "            final_msg = username + '~' + message\n",
    "            send_messages_to_all(final_msg)\n",
    "\n",
    "        else:\n",
    "            print(f\"The message send from client {username} is empty\")\n",
    "\n",
    "\n",
    "# Function to send message to a single client\n",
    "def send_message_to_client(client, message):\n",
    "\n",
    "    client.sendall(message.encode())\n",
    "\n",
    "# Function to send any new message to all the clients that\n",
    "# are currently connected to this server\n",
    "def send_messages_to_all(message):\n",
    "    \n",
    "    for user in active_clients:\n",
    "\n",
    "        send_message_to_client(user[1], message)\n",
    "\n",
    "# Function to handle client\n",
    "def client_handler(client):\n",
    "    \n",
    "    # Server will listen for client message that will\n",
    "    # Contain the username\n",
    "    while 1:\n",
    "\n",
    "        username = client.recv(BUFFER).decode('utf-8')\n",
    "        if username != '':\n",
    "            active_clients.append((username, client))\n",
    "            users.update({username : client})\n",
    "            prompt_message = \"SERVER~\" + f\"{username} added to the chat\"\n",
    "            send_messages_to_all(prompt_message)\n",
    "            print(active_clients)\n",
    "            \n",
    "            # for sending usernames to clients\n",
    "            string_users = str(list(users.keys()))\n",
    "            \n",
    "            send_messages_to_all(\"***USERS***\" + string_users)\n",
    "            break\n",
    "            \n",
    "        else:\n",
    "            print(\"Client username is empty\")\n",
    "\n",
    "    threading.Thread(target=listen_for_messages, args=(client, username, )).start()\n",
    "\n",
    "# Main function\n",
    "def main():\n",
    "\n",
    "    # Creating the socket class object\n",
    "    # AF_INET: we are going to use IPv4 addresses\n",
    "    # SOCK_STREAM: we are using TCP packets for communication\n",
    "    server = socket.socket(socket.AF_INET, socket.SOCK_STREAM)\n",
    "\n",
    "    # Creating a try catch block\n",
    "    try:\n",
    "        # Provide the server with an address in the form of\n",
    "        # host IP and port\n",
    "        server.bind((HOST, PORT))\n",
    "        print(f\"Running the server on {HOST} {PORT}\")\n",
    "    except:\n",
    "        print(f\"Unable to bind to host {HOST} and port {PORT}\")\n",
    "\n",
    "    # Set server limit\n",
    "    server.listen(LISTENER_LIMIT)\n",
    "\n",
    "    # This while loop will keep listening to client connections\n",
    "    while 1:\n",
    "\n",
    "        client, address = server.accept()\n",
    "        print(f\"Successfully connected to client {address[0]} {address[1]}\")\n",
    "\n",
    "        threading.Thread(target=client_handler, args=(client, )).start()\n",
    "\n",
    "\n",
    "if __name__ == '__main__':\n",
    "    main()"
   ]
  },
  {
   "cell_type": "code",
   "execution_count": null,
   "id": "4b834f31",
   "metadata": {},
   "outputs": [],
   "source": [
    "message = \"client#1@dhairya\"\n",
    "b = \"client\"\n",
    "if message.split(\"#\")[0] == \"client\":\n",
    "    C_ID = int(message.split(\"#\")[1].split(\"@\")[0])-1\n",
    "    message = message.split(\"#\")[1].split(\"@\")[1]\n",
    "    print(message, C_ID)"
   ]
  },
  {
   "cell_type": "code",
   "execution_count": 27,
   "id": "fb864f40",
   "metadata": {},
   "outputs": [
    {
     "name": "stdout",
     "output_type": "stream",
     "text": [
      "1\n"
     ]
    }
   ],
   "source": [
    "d = {\n",
    "    \"a\" : 1,\n",
    "    \"aada\" : 4,\n",
    "    \"afa\" : 4,\n",
    "    \"fa\" : 3,\n",
    "} \n",
    "# s = list(d.keys())\n",
    "# s = str(s)\n",
    "# res = ast.literal_eval(s)\n",
    "# print(type(s) , type(res))\n",
    "\n",
    "if \"a\" in d.keys():\n",
    "    print(1)"
   ]
  },
  {
   "cell_type": "code",
   "execution_count": 42,
   "id": "6b538dcc",
   "metadata": {},
   "outputs": [
    {
     "name": "stdout",
     "output_type": "stream",
     "text": [
      "* recording\n",
      "* done recording\n"
     ]
    }
   ],
   "source": [
    "import pyaudio\n",
    "import wave\n",
    "import numpy as np\n",
    "\n",
    "CHUNK = 1024\n",
    "FORMAT = pyaudio.paInt16\n",
    "CHANNELS = 2\n",
    "RATE = 44100\n",
    "RECORD_SECONDS = 5\n",
    "WAVE_OUTPUT_FILENAME = \"notification\\\\output.wav\"\n",
    "\n",
    "p = pyaudio.PyAudio()\n",
    "\n",
    "stream = p.open(format=FORMAT,\n",
    "                channels=CHANNELS,\n",
    "                rate=RATE,\n",
    "                input=True,\n",
    "                frames_per_buffer=CHUNK)\n",
    "\n",
    "print(\"* recording\")\n",
    "\n",
    "frames = []\n",
    "\n",
    "\n",
    "for i in range(0, int(RATE / CHUNK * RECORD_SECONDS)):\n",
    "    data = stream.read(CHUNK)\n",
    "    frames.append(data)\n",
    "\n",
    "print(\"* done recording\")\n",
    "\n",
    "stream.stop_stream()\n",
    "stream.close()\n",
    "p.terminate()\n",
    "\n",
    "\n",
    "wf = wave.open(WAVE_OUTPUT_FILENAME, 'wb')\n",
    "wf.setnchannels(CHANNELS)\n",
    "wf.setsampwidth(p.get_sample_size(FORMAT))\n",
    "wf.setframerate(RATE)\n",
    "wf.writeframes(b''.join(frames))\n",
    "wf.close()"
   ]
  },
  {
   "cell_type": "code",
   "execution_count": 9,
   "id": "efdf9db7",
   "metadata": {},
   "outputs": [
    {
     "data": {
      "text/plain": [
       "['username', '***doc***data']"
      ]
     },
     "execution_count": 9,
     "metadata": {},
     "output_type": "execute_result"
    }
   ],
   "source": [
    "msg = \"***PRIVATE/GROUP***username###***doc***data\"\n",
    "a = \"FFFFFF\"\n",
    "# a.split(\"***PRIVATE/GROUP***\")[1].split(\"***\")[0]\n",
    "msg.split(\"***PRIVATE/GROUP***\")[1].split(\"###\")"
   ]
  },
  {
   "cell_type": "code",
   "execution_count": 25,
   "id": "feef59c3",
   "metadata": {},
   "outputs": [
    {
     "name": "stderr",
     "output_type": "stream",
     "text": [
      "C:\\Users\\Welcome\\AppData\\Local\\Temp\\ipykernel_4416\\480936420.py:2: DeprecationWarning: Importing display from IPython.core.display is deprecated since IPython 7.14, please import from IPython display\n",
      "  from IPython.core.display import display\n"
     ]
    }
   ],
   "source": [
    "from IPython.lib.display import Audio\n",
    "from IPython.core.display import display\n",
    "import time"
   ]
  },
  {
   "cell_type": "code",
   "execution_count": 43,
   "id": "e717bd13",
   "metadata": {},
   "outputs": [
    {
     "name": "stdout",
     "output_type": "stream",
     "text": [
      "1\n",
      "1\n",
      "1\n",
      "1\n",
      "1\n"
     ]
    },
    {
     "data": {
      "text/html": [
       "\n",
       "                <audio  controls=\"controls\" autoplay=\"autoplay\">\n",
       "                    <source src=\"data:audio/mpeg;base64,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\" type=\"audio/mpeg\" />\n",
       "                    Your browser does not support the audio element.\n",
       "                </audio>\n",
       "              "
      ],
      "text/plain": [
       "<IPython.lib.display.Audio object>"
      ]
     },
     "metadata": {},
     "output_type": "display_data"
    },
    {
     "name": "stdout",
     "output_type": "stream",
     "text": [
      "DONE\n"
     ]
    }
   ],
   "source": [
    "def aatry():\n",
    "    for i in range(5):\n",
    "        print(1)\n",
    "    display(Audio(\"notification\\\\tone.mp3\", autoplay=True))\n",
    "    print(\"DONE\")\n",
    "    \n",
    "aatry()"
   ]
  },
  {
   "cell_type": "code",
   "execution_count": 35,
   "id": "6d17072a",
   "metadata": {},
   "outputs": [
    {
     "data": {
      "text/plain": [
       "(16, 16, 3)"
      ]
     },
     "execution_count": 35,
     "metadata": {},
     "output_type": "execute_result"
    }
   ],
   "source": [
    "import cv2\n",
    "image = cv2.imread(\"images\\\\mic1.png\")\n",
    "# print(image.height)\n",
    "img = cv2.imread(\"images\\\\reload.png\")\n",
    "\n",
    "s = img.shape\n",
    "s\n",
    "# img = img.flatten()\n",
    "# img = img.reshape(s)\n",
    "# img = cv2.resize(img, (16, 16))\n",
    "# cv2.imwrite(\"images\\\\reload.png\", img)"
   ]
  },
  {
   "cell_type": "code",
   "execution_count": null,
   "id": "b4659c19",
   "metadata": {},
   "outputs": [],
   "source": []
  }
 ],
 "metadata": {
  "kernelspec": {
   "display_name": "Python 3 (ipykernel)",
   "language": "python",
   "name": "python3"
  },
  "language_info": {
   "codemirror_mode": {
    "name": "ipython",
    "version": 3
   },
   "file_extension": ".py",
   "mimetype": "text/x-python",
   "name": "python",
   "nbconvert_exporter": "python",
   "pygments_lexer": "ipython3",
   "version": "3.8.10"
  }
 },
 "nbformat": 4,
 "nbformat_minor": 5
}
